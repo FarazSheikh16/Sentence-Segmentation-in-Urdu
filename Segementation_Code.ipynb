{
 "cells": [
  {
   "cell_type": "markdown",
   "id": "4983ba59",
   "metadata": {},
   "source": [
    "## Importing all required modules"
   ]
  },
  {
   "cell_type": "code",
   "execution_count": 1,
   "id": "4873fa83",
   "metadata": {},
   "outputs": [],
   "source": [
    "import nltk\n",
    "import urduhack\n",
    "import docx2txt\n",
    "import re\n",
    "from urduhack.tokenization import sentence_tokenizer\n",
    "from urduhack.tokenization import word_tokenizer\n"
   ]
  },
  {
   "cell_type": "markdown",
   "id": "6dbb2273",
   "metadata": {},
   "source": [
    "In the below cell I Loaded the Word document and removed extra spaces in the text"
   ]
  },
  {
   "cell_type": "code",
   "execution_count": 2,
   "id": "718d9d64",
   "metadata": {},
   "outputs": [],
   "source": [
    "text = docx2txt.process('test_file_incorrect.docx')\n",
    "text = \" \".join(text.split())"
   ]
  },
  {
   "cell_type": "markdown",
   "id": "19d11899",
   "metadata": {},
   "source": [
    "End of Sentences words and conjuctions of Urdu Language is defined below"
   ]
  },
  {
   "cell_type": "code",
   "execution_count": 3,
   "id": "ad8a8831",
   "metadata": {},
   "outputs": [],
   "source": [
    "URDU_EOS_SET = ['کیجیے', 'کیجئے', 'گئیں', 'تھیں', 'ہوں', 'خریدا', 'گے', 'ہونگے', 'گا', 'چاہیے', 'ہوئیں', 'گی',\n",
    "                       'تھا', 'تھی', 'تھے', 'ہیں', 'ہے','ہوگا', 'کہا', 'جاسکے', 'رہی','کیں','گیا','دیا','رکھتے','گئی','لگے','لگی','لگا','جائے'\n",
    "                       ]\n",
    "URDU_CONJUNCTIONS = ['جنہیں', 'جس', 'جن', 'جو', 'اور','اگر','اگرچہ', 'لیکن', 'مگر', 'پر', 'یا', 'تاہم', 'کہ', 'کر',\n",
    "                      'تو', 'گے', 'گی','حالانکہ', 'لہذا', 'باوجود اس کے ', 'کیونکہ', 'جاتا','تاکہ', '،', 'بقول','جسے','جیسے','ہو','ورنہ','اتنا','اتنی','بلکہ',\n",
    "                     'چونکہ'\n",
    "                      ]"
   ]
  },
  {
   "cell_type": "markdown",
   "id": "ad96232a",
   "metadata": {},
   "source": [
    "# Functions \n"
   ]
  },
  {
   "cell_type": "markdown",
   "id": "c071797b",
   "metadata": {},
   "source": [
    "Function for cleaning the text by removing quotations"
   ]
  },
  {
   "cell_type": "code",
   "execution_count": 4,
   "id": "eaf515d8",
   "metadata": {},
   "outputs": [],
   "source": [
    "def clean_text(text):\n",
    "    text = text.replace('‘','')\n",
    "    text = text.replace('’','')\n",
    "    return text"
   ]
  },
  {
   "cell_type": "markdown",
   "id": "bc77e8d4",
   "metadata": {},
   "source": [
    "Function to add delimiters"
   ]
  },
  {
   "cell_type": "code",
   "execution_count": 14,
   "id": "fd699fbc",
   "metadata": {},
   "outputs": [],
   "source": [
    "def add_urdu_sentence_delimiters(text):\n",
    "    text_posn = 0\n",
    "    TXT = text\n",
    "    og_words_list = TXT.split(\" \")\n",
    "    index = 0 \n",
    "    for word in og_words_list:\n",
    "        text_posn += len(word) + 1 \n",
    "        try:\n",
    "            if word[-1] in [\"ے\", \"ا\", \"ئ\", \"ی\", \"و\", \"ں\"]:\n",
    "                if index+1 == len(og_words_list):\n",
    "                    break\n",
    "                else:\n",
    "                    if word in URDU_EOS_SET and og_words_list[index + 1] not in URDU_CONJUNCTIONS and og_words_list[index+1] not in URDU_EOS_SET and og_words_list[index+1][0] != '،':\n",
    "                        TXT = TXT[:text_posn] + '۔' + TXT[text_posn:]\n",
    "                        text_posn += 1\n",
    "        except:\n",
    "            print(\"Index Out of Bound\")\n",
    "        index += 1 \n",
    "    return TXT"
   ]
  },
  {
   "cell_type": "markdown",
   "id": "22e7401c",
   "metadata": {},
   "source": [
    "Function to split into sentences "
   ]
  },
  {
   "cell_type": "code",
   "execution_count": 29,
   "id": "3344c845",
   "metadata": {},
   "outputs": [],
   "source": [
    "def split_into_sentences (Text):\n",
    "    new_sents = re.split('!|۔|؟', copytext)\n",
    "    new_sents = [s.strip() for s in new_sents if s.strip()]\n",
    "    Num_of_sentences = len(new_sents)\n",
    "    print('No of sentences', Num_of_sentences)\n",
    "    for i, s in enumerate(new_sents):\n",
    "        if s[-1] == \" \":\n",
    "            new_sents[i] = s[:-1]\n",
    "        if s[0] == \" \":\n",
    "            new_sents[i] = s[1:]\n",
    "\n",
    "    return(new_sents)"
   ]
  },
  {
   "cell_type": "markdown",
   "id": "705af0ab",
   "metadata": {},
   "source": [
    "## Data Pre-Processing"
   ]
  },
  {
   "cell_type": "markdown",
   "id": "e688b710",
   "metadata": {},
   "source": [
    "In the below cell I pre-proccessed the data by using the functions declared above and all data cleaning and addition of delimiters and spilitting into sentences is done in cell below"
   ]
  },
  {
   "cell_type": "code",
   "execution_count": 49,
   "id": "33b22956",
   "metadata": {},
   "outputs": [
    {
     "name": "stdout",
     "output_type": "stream",
     "text": [
      "Index Out of Bound\n",
      "No of sentences 107\n"
     ]
    }
   ],
   "source": [
    "copytext = text\n",
    "copytext = clean_text(copytext)\n",
    "copytext= add_urdu_sentence_delimiters(copytext)\n",
    "with open('docx_file.docx', 'w', encoding='utf-8') as f:\n",
    "    f.write(str(copytext))\n",
    "new_sents1 = split_into_sentences(copytext)"
   ]
  },
  {
   "cell_type": "code",
   "execution_count": 8,
   "id": "58402dbf",
   "metadata": {},
   "outputs": [],
   "source": [
    "Correct_path = 'test_file_correct.docx' #copying path of corect test file"
   ]
  },
  {
   "cell_type": "code",
   "execution_count": 39,
   "id": "a8d95307",
   "metadata": {},
   "outputs": [],
   "source": [
    "def Sentence_Segment_Accuracy(new_sents, correct_text_path):\n",
    "    # Load the Word document from the path given in correct_text_path \n",
    "    text1 = docx2txt.process(correct_text_path)\n",
    "    \n",
    "    # Remove quotation marks\n",
    "    text1= clean_text(text1)\n",
    "    \n",
    "    # Split the correct text into sentences\n",
    "    list_acc_text = re.split('۔|؟', text1)\n",
    "\n",
    "    # Normalize the correct text\n",
    "    list_acc_text = [sent.strip(' \\n') for sent in list_acc_text if sent.strip(' \\n')]\n",
    "\n",
    "    # Normalize the attempted sentences\n",
    "    new_sents = [sent.strip(' \\n') for sent in new_sents if sent.strip(' \\n')]\n",
    "\n",
    "    success = 0\n",
    "\n",
    "    # For every correct sentence\n",
    "    for i, corr_sent in enumerate(list_acc_text):\n",
    "        corr_words = corr_sent.split()\n",
    "\n",
    "        # For every attempted sentence\n",
    "        for j, att_sent in enumerate(new_sents):\n",
    "            att_words = att_sent.split()\n",
    "\n",
    "            # If the last word of both sentences match\n",
    "            if att_words[-1] == corr_words[-1]:\n",
    "                # Check if the next 3 characters of the word followed by the sentence match\n",
    "                if (i+1) < len(list_acc_text) and (j+1) < len(new_sents):\n",
    "                    if new_sents[j+1][:3] == list_acc_text[i+1][:3]:\n",
    "                        print(\"Successful Split: \" + att_sent)\n",
    "                        success += 1\n",
    "                        break\n",
    "\n",
    "    return (success / len(list_acc_text)) * 100\n"
   ]
  },
  {
   "cell_type": "markdown",
   "id": "ebb6145c",
   "metadata": {},
   "source": [
    "Comparing the Accuracies of Both Methods"
   ]
  },
  {
   "cell_type": "code",
   "execution_count": 40,
   "id": "53784f69",
   "metadata": {},
   "outputs": [
    {
     "name": "stdout",
     "output_type": "stream",
     "text": [
      "Successful Split: گزشتہ کئی سالوں سے مختلف بحران آتے جاتے رہے لیکن حالیہ آٹا ، چینی سمیت دیگر بحران اچانک پید ا ہوئے اور ان پر جے آئی ٹی تشکیل دے دیں گئیں تاکہ عوام کو ریلیف دیا جاسکے\n",
      "Successful Split: دوسری جانب بجلی ، گیس ، پانی سمیت دیگر بلوں میں کئی سو گنا اضافہ کردیا گیا ،صوبائی و وفاقی وزراء نے اپنے اپنے ایوانوں بحران کے ذمہ دار عناصر کو بے نقاب کرنے کے بجائے سب اچھاہے کی رپورٹ پیش کیں\n",
      "Successful Split: تاریخی گواہ ہے بقول ماہرین ، مبصرین اور صحافیوں کا کہنا اور لکھنا ہے کہ پگڑی بدل بھائی کی رسم کی آڑ میں نادر شاہ نے محمد شاہ رنگیلا سے کوہِ نور ہیرا حاصل کیا تھا\n",
      "Successful Split: 12 مئی 1739 کی شام دہلی میں زبردست چہل پہل، شاہجہان آباد میں چراغاں اور لال قلعے میں جشن کا سماں ہے\n",
      "Successful Split: غریبوں میں شربت، پان اور کھانا تقسیم کیا جا رہا ہے، فقیروں، گداؤں کو جھولی بھر بھر کر روپے عطا ہو رہے ہیں\n",
      "Successful Split: آج دربار میں ایرانی بادشاہ نادر شاہ کے سامنے مغلیہ سلطنت کے 13ویں تاجدار محمد شاہ بیٹھے ہیں، لیکن اس وقت ان کے سر پر شاہی تاج نہیں ہے، کیوں نادر شاہ نے ڈھائی ماہ قبل ان سے سلطنت چھین لی تھی\n",
      "Successful Split: 56 دن دہلی میں رہنے کے بعد اب نادر شاہ کے واپس ایران لوٹنے کا وقت آ گیا ہے اور وہ ہندوستان کی باگ ڈور دوبارہ سے محمد شاہ کے حوالے کرنا چاہتا ہے\n",
      "Successful Split: 56 دن دہلی میں رہنے کے بعد اب نادر شاہ کے واپس ایران لوٹنے کا وقت آ گیا ہے اور وہ ہندوستان کی باگ ڈور دوبارہ سے محمد شاہ کے حوالے کرنا چاہتا ہے\n",
      "Successful Split: نادر شاہ گھاگ سیاستدان اور گھاٹ گھاٹ کا پانی پیے ہوئے تھا\n",
      "Successful Split: اس موقعے پر وہ چال چلی جسے نہلے پہ دہلا کہا جاتا ہے\n",
      "Successful Split: اس نے محمد شاہ سے کہا، ایران میں رسم چلی آتی ہے کہ بھائی خوشی کے موقعے پر آپس میں پگڑیاں بدل دیتے ہیں، آج سے ہم بھائی بھائی بن گئے ہیں، تو کیوں نہ اسی رسم کا اعادہ کیا جائے\n",
      "Successful Split: محمد شاہ کے پاس سر جھکانے کے علاوہ کوئی چارہ نہیں تھا\n",
      "Successful Split: نادر شاہ نے اپنی پگڑی اتار کر اس کے سر رکھی، اور اس کی پگڑی اپنے سر، اور یوں دنیا کا مشہور ترین ہیرا کوہِ نور ہندوستان سے نکل کر ایران پہنچ گیا\n",
      "Successful Split: رنگیلا بادشاہ)اس ہیرے کے مالک محمد شاہ اپنے پڑدادا اورنگزیب عالمگیر کے دورِ حکومت میں 1702 میں پیدا ہوئے تھے\n",
      "Successful Split: ان کا پیدائشی نام تو روشن اختر تھا، تاہم 29 ستمبر 1719 کو بادشاہ گر سید برادران نے انھیں صرف 17 برس کی عمر میں سلطنت تیموریہ کے تخت پر بٹھانے کے بعد ابوالفتح نصیر الدین روشن اختر محمد شاہ کا خطاب دیا\n",
      "Successful Split: خود ان کا تخلص سدا رنگیلا تھا اتنا لمبا نام کون یاد رکھتا، چنانچہ عوام نے دونوں کو ملا کر محمد شاہ رنگیلا کر دیا اور وہ آج تک ہندوستان کے طول و عرض میں اسی نام سے جانے اور مانے جاتے ہیں\n",
      "Successful Split: اورنگزیب عالمگیر نے ہندوستان میں ایک خاص قسم کا کٹر اسلام نافذ کر رکھا تھا\n",
      "Successful Split: اس کا سب سے پہلا نشانہ وہ فنونِ لطیفہ بنے جن کے بارے میں تصور تھا کہ وہ اسلامی اصولوں سے مطابقت نہیں رکھتے\n",
      "Successful Split: اس کی ایک دلچسپ مثال اطالوی سیاح نکولو منوچی نے لکھی ہے\n",
      "Successful Split: وہ کہتے ہیں کہ اورنگزیبی دور میں جب موسیقی پر پابندی لگی تو گویوں اور موسیقاروں کی روٹی روزی بند ہو گئی\n",
      "Successful Split: آخر تنگ آ کر ایک ہزار فنکاروں نے جمعے کے دن دہلی کی جامع مسجد سے ایک جلوس نکالا اور آلات موسیقی کو جنازوں کی شکل میں لے کر روتے پیٹتے گزرنے لگے\n",
      "Successful Split: اورنگزیب نے دیکھا تو حیرت زدہ ہو کر پچھوایا، یہ کس کا جنازہ لیے جا رہے ہو جس کی خاطر اس قدر آہ و بکا کیا جا رہا ہے\n",
      "Successful Split: خود ان کا تخلص سدا رنگیلا تھا اتنا لمبا نام کون یاد رکھتا، چنانچہ عوام نے دونوں کو ملا کر محمد شاہ رنگیلا کر دیا اور وہ آج تک ہندوستان کے طول و عرض میں اسی نام سے جانے اور مانے جاتے ہیں\n",
      "Successful Split: طبیعیات کا اصول ہے کہ ہر عمل کا ردِ عمل ہوتا ہے\n",
      "Successful Split: یہی اصول تاریخ اور انسانی معاشرت پر بھی لاگو ہوتا ہے کہ جس چیز کو جتنی سختی سے دبایا جائے، وہ اتنی ہی قوت سے ابھر کر سامنے آتی ہے\n",
      "Successful Split: چنانچہ اورنگزیب کے بعد بھی یہی کچھ ہوا اور محمد شاہ کے دور میں وہ تمام فنون پوری آب و تاب سے سامنے آ گئے جو اس سے پہلے دب گئے تھے\n",
      "Successful Split: ہرچیز کا ڈبل،ٹرپل ریٹ\n",
      "Successful Split: کبھی مہنگائی کا طوفان اور کبھی نا جائز منافع خوری کی سونامی\n",
      "Successful Split: دکاندار اس اندازسے چیزیں مہنگی کرتے ہیں جیسے ان کے نزدیک یہ بھی کوئی مذہبی فریضہ ہو\n",
      "Successful Split: اب تگنی قیمت پر فروخت ہورہاہے ابھی تک اس کے بھاؤ نہیں گرے\n",
      "Successful Split: باقی دوسری سبزیوں کا ریٹ اونچا اور عوام کا حال پتلاہے\n",
      "Successful Split: مباداکمزوردل شاید قیمتیں سن کر بے ہوش نہ ہو جائیں\n",
      "Successful Split: حکومت کہاں ہے\n",
      "Successful Split: انتظامیہ کہاں خواب خرگوش مزے سے سورہی ہے\n",
      "Successful Split: عوام گراں فروشوں کے ہاتھوں نمٹے جارہے ہیں\n",
      "Successful Split: اس میں کوئی شک نہیں وزیر ِ اعلیٰ عثمان بزدار نے مہنگائی کنٹرول کرنے کیلئے چھاپے مارنے کی ہدایت کردی ہے لیکن وہ کہاں کہاں جائیں گے\n",
      "Successful Split: اس میں کوئی شک نہیں وزیر ِ اعلیٰ عثمان بزدار نے مہنگائی کنٹرول کرنے کیلئے چھاپے مارنے کی ہدایت کردی ہے لیکن وہ کہاں کہاں جائیں گے\n",
      "Successful Split: کس کس کو پکڑیں گے\n",
      "Successful Split: پاکستان میں تو آوے کا آوابگڑاہواہے\n",
      "Successful Split: گی\n",
      "Successful Split: بلندو بانگ دعوے کرنااچھی بات سہی اس سے لوگ وقتی طورپر خوش توہو جاتے ہیں لیکن فقط دعوؤں کی بنیادپر کتنی دیر تک عوام کو بہلایا جا سکتاہے ہر قسم کی سیاست سے بالاترہو کر فیصلے کرنے سے ہی عوام کو ریلیف مل سکتاہے عوام دعوے نہیں عملی اقدامات چاہتے ہیں اور عملی اقدامات کیلئے دعوے کرنے کی ضرورت نہیں ہوتی\n",
      "Successful Split: پاکستان کے وزیر اعظم عمران خان میں کورونا وائرس کی تشخیص ہوئی ہے\n",
      "Successful Split: پاکستان کے وزیر اعظم عمران خان میں کورونا وائرس کی تشخیص ہوئی ہے\n",
      "Successful Split: وزیر اعظم عمران خان نے دو روز قبل کورونا وائرس سے بچاؤ کی ویکسین کا بھی لگوائی تھی\n",
      "Successful Split: ہر فرد کو کچھ ہفتوں کے فاصلے سے ویکسین کی دو خوراکیں دی جاتی ہیں اور عمران خان کو ابھی تک صرف ایک خوراک دی گئی تھی\n",
      "Successful Split: اپنا کووڈ ٹیسٹ مثبت آنے کے بعد پاکستان کے وزیر اعظم نے خود کو گھر میں قرنطینہ کر لیا ہے\n",
      "Successful Split: اس موقعے پر وہ چال چلی جسے نہلے پہ دہلا کہا جاتا ہے\n",
      "Successful Split: اس خبر کے بعد پاکستان میں سوشل میڈیا پر لوگ اکثر یہ سوال کرتے نظر آ رہے ہیں کہ کیا ویکسین لگوانے کے بعد بھی کورونا وائرس کا خطرہ موجود رہتا ہے اور یہ کہ ویکسین کتنے عرصے بعد مؤثر ثابت ہوتی ہے\n",
      "Successful Split: بی بی سی اردو نے طبی ماہرین سے انھی سوالوں کے جواب جاننے کی کوشش کی ہے\n",
      "Successful Split: حکومتِ پاکستان کے ٹوئٹر اکاؤنٹ سے جاری ہونے والے ایک بیان میں وضاحت دی گئی کہ وزیر اعظم عمران خان کا کورونا ٹیسٹ جب مثبت آیا تو اس وقت ان کی ویکسینیشن مکمل نہیں ہوئی تھی\n",
      "Successful Split: صرف 2 دن ہوئے ہیں، جو کسی بھی ویکسین کے کارآمد ہونے کے لیے بہت کم وقت ہے\n",
      "Successful Split: اینٹی باڈیز ویکسین کا دوسرا ٹیکا لگنے کے دو سے تین ہفتوں کے بعد بننا شروع ہوتی ہیں\n",
      "Successful Split: پاکستان میں اس وقت چین کی طرف سے عطیے میں ملنے والی سائنو فارم ویکسین 60 سال یا اس سے زائد عمر کے افراد کو لگائی جا رہی ہے\n",
      "Successful Split: پاکستان کے وزیر اعظم عمران خان میں کورونا وائرس کی تشخیص ہوئی ہے\n",
      "Successful Split: وزیر اعظم عمران خان کے سابق معاونِ خصوصی برائے صحت ڈاکٹر ظفر مرزا نے بی بی سی کو بتایا کہ وزیر اعظم عمران خان نے دو روز قبل ویکسین لگوائی ہے اور اس بات کا قوی امکان ہے کہ وہ اس وقت کورونا وائرس سے متاثر ہو چکے تھے\n",
      "Successful Split: اپنا کووڈ ٹیسٹ مثبت آنے کے بعد پاکستان کے وزیر اعظم نے خود کو گھر میں قرنطینہ کر لیا ہے\n",
      "Successful Split: حالات تو ایسے ہیں\n",
      "Successful Split: وزیر اعظم عمران خان کے سابق معاونِ خصوصی برائے صحت ڈاکٹر ظفر مرزا نے بی بی سی کو بتایا کہ وزیر اعظم عمران خان نے دو روز قبل ویکسین لگوائی ہے اور اس بات کا قوی امکان ہے کہ وہ اس وقت کورونا وائرس سے متاثر ہو چکے تھے\n",
      "Successful Split: ملک بھر میں مہنگائی کرنے والے نا جائز منافع خوروں کے خلاف ایک خوفناک اپریشن ضرب ِ غضب یا اپریشن ردالفساد شروع کرنے کی اشد ضرورت ہے\n",
      "Successful Split: ان کے مطابق یہ الگ بات ہے کہ ویکسین کے بعد انفیکشن معمولی نوعیت کا ہوتا ہے مگر احتیاط سے معمولی نوعیت کے خطرے سے بھی بچاؤ ممکن ہے\n",
      "Successful Split: ڈاکٹر نسیم اختر کہتی ہیں کہ اب وزیر اعظم عمران کو دوبارہ ویکسین ان کی صحت یابی کے بعد ہی لگائی جا سکے گی\n",
      "Successful Split: اورنگزیب نے دیکھا تو حیرت زدہ ہو کر پچھوایا، یہ کس کا جنازہ لیے جا رہے ہو جس کی خاطر اس قدر آہ و بکا کیا جا رہا ہے\n",
      "Successful Split: انھوں نے کہا کہ ویکسین لگنے کے دو سے تین ہفتے بعد جسم میں اینٹی باڈیز بنتی ہیں\n",
      "Successful Split: ہوسکتا ہے کہ وزیرِ اعظم کسی ایسے شخص سے ملے ہوں جسے کورونا وائرس ہو وہ صحت مند آدمی ہیں، جلد صحتیاب ہوجائیں گے\n",
      "Successful Split: اس لیے چینی ویکسین سائنوفارم ڈبل ڈوز ویکسین ہے اور اس ویکسین کی افادیت 80 سے 90 فیصد ہے\n",
      "Successful Split: بعد ازاں ڈاکٹر عبدالباری نے بی بی سی کو بتایا کہ ویکسین لگوانے کے باوجود بھی احتیاط لازمی ہوتی ہے اور ویکسین کا فائدہ یہ ہوتا ہے کہ بیماری زیادہ خطرناک ثابت نہیں ہوتی وزیر اعظم عمران خان کی حالیہ دنوں میں کیا مصروفیات رہیں\n",
      "Successful Split: عوام گراں فروشوں کے ہاتھوں نمٹے جارہے ہیں\n",
      "Successful Split: اس دوران وزیر اعظم بیرونِ ملک سے آئے مہمانوں سے بھی ملاقات کرتے رہے اور اُنھوں نے چند دن قبل خیبر پختونخوا میں ترقیاتی منصوبوں کا دورہ بھی کیا تھا\n",
      "Successful Split: واضح رہے کہ 18 مارچ کو عمران خان نے پہلے اسلام آباد میں ہاؤسنگ پراجیکٹ کا افتتاح کیا جس میں دیگر وفاقی وزرا شامل تھے\n"
     ]
    },
    {
     "name": "stdout",
     "output_type": "stream",
     "text": [
      "Successful Split: بقول ماہرین ، مبصرین اور صحافیوں کا کہنا اور لکھنا ہے کہ پگڑی بدل بھائی کی رسم کی آڑ میں نادر شاہ نے محمد شاہ رنگیلا سے کوہِ نور ہیرا حاصل کیا تھا\n",
      "Successful Split: 12 مئی 1739 کی شام دہلی میں زبردست چہل پہل، شاہجہان آباد میں چراغاں اور لال قلعے میں جشن کا سماں ہے\n",
      "Successful Split: غریبوں میں شربت، پان اور کھانا تقسیم کیا جا رہا ہے، فقیروں، گداؤں کو جھولی بھر بھر کر روپے عطا ہو رہے ہیں\n",
      "Successful Split: آج دربار میں ایرانی بادشاہ نادر شاہ کے سامنے مغلیہ سلطنت کے 13ویں تاجدار محمد شاہ بیٹھے ہیں، لیکن اس وقت ان کے سر پر شاہی تاج نہیں ہے، کیوں نادر شاہ نے ڈھائی ماہ قبل ان سے سلطنت چھین لی تھی\n",
      "Successful Split: 56 دن دہلی میں رہنے کے بعد اب نادر شاہ کے واپس ایران لوٹنے کا وقت آ گیا ہے اور وہ ہندوستان کی باگ ڈور دوبارہ سے محمد شاہ کے حوالے کرنا چاہتا ہے\n",
      "Successful Split: 56 دن دہلی میں رہنے کے بعد اب نادر شاہ کے واپس ایران لوٹنے کا وقت آ گیا ہے اور وہ ہندوستان کی باگ ڈور دوبارہ سے محمد شاہ کے حوالے کرنا چاہتا ہے\n",
      "Successful Split: نادر شاہ گھاگ سیاستدان اور گھاٹ گھاٹ کا پانی پیے ہوئے تھا\n",
      "Successful Split: اس موقعے پر وہ چال چلی جسے نہلے پہ دہلا کہا جاتا ہے\n",
      "Successful Split: ‘‘ محمد شاہ کے پاس سر جھکانے کے علاوہ کوئی چارہ نہیں تھا\n",
      "Successful Split: نادر شاہ نے اپنی پگڑی اتار کر اس کے سر رکھی، اور اس کی پگڑی اپنے سر، اور یوں دنیا کا مشہور ترین ہیرا کوہِ نور ہندوستان سے نکل کر ایران پہنچ گیا رنگیلا بادشاہ)اس ہیرے کے مالک محمد شاہ اپنے پڑدادا اورنگزیب عالمگیر کے دورِ حکومت میں 1702 میں پیدا ہوئے تھے\n",
      "Successful Split: ان کا پیدائشی نام تو روشن اختر تھا، تاہم 29 ستمبر 1719 کو بادشاہ گر سید برادران نے انھیں صرف 17 برس کی عمر میں سلطنت تیموریہ کے تخت پر بٹھانے کے بعد ابوالفتح نصیر الدین روشن اختر محمد شاہ کا خطاب دیا خود ان کا تخلص ’’سدا رنگیلا‘‘ تھا\n",
      "Successful Split: اتنا لمبا نام کون یاد رکھتا، چنانچہ عوام نے دونوں کو ملا کر محمد شاہ رنگیلا کر دیا اور وہ آج تک ہندوستان کے طول و عرض میں اسی نام سے جانے اور مانے جاتے ہیں\n",
      "Successful Split: اورنگزیب عالمگیر نے ہندوستان میں ایک خاص قسم کا کٹر اسلام نافذ کر رکھا تھا\n",
      "Successful Split: اس کا سب سے پہلا نشانہ وہ فنونِ لطیفہ بنے جن کے بارے میں تصور تھا کہ وہ اسلامی اصولوں سے مطابقت نہیں رکھتے اس کی ایک دلچسپ مثال اطالوی سیاح نکولو منوچی نے لکھی ہے\n",
      "Successful Split: انڈس ہسپتال کے چیف ایگزیکٹیو افسر عبدالباری خان نے پاکستان کے مقامی ٹی وی چینل جیو نیوز سے بات کرتے ہوئے کووڈ ویکسین کی افادیت پر اٹھنے والے سوالات کو مسترد کرتے ہوئے کہا کہ ’ویکسین لگنے سے پہلے کسی کو کووڈ ہونا نارمل بات ہے\n",
      "Successful Split: اتنا لمبا نام کون یاد رکھتا، چنانچہ عوام نے دونوں کو ملا کر محمد شاہ رنگیلا کر دیا اور وہ آج تک ہندوستان کے طول و عرض میں اسی نام سے جانے اور مانے جاتے ہیں\n",
      "Successful Split: اورنگزیب نے جواب دیا، ’’قبر ذرا گہری کھودنا!‘‘طبیعیات کا اصول ہے کہ ہر عمل کا ردِ عمل ہوتا ہے\n",
      "Successful Split: یہی اصول تاریخ اور انسانی معاشرت پر بھی لاگو ہوتا ہے کہ جس چیز کو جتنی سختی سے دبایا جائے، وہ اتنی ہی قوت سے ابھر کر سامنے آتی ہے\n",
      "Successful Split: چنانچہ اورنگزیب کے بعد بھی یہی کچھ ہوا اور محمد شاہ کے دور میں وہ تمام فنون پوری آب و تاب سے سامنے آ گئے جو اس سے پہلے دب گئے تھے\n",
      "Successful Split: ابھی یہ واضح نہیں ہے کہ وزیر اعظم عمران خان اس وائرس سے کیسے متاثر ہوئے ہیں تاہم وزیر اعظم حالیہ چند دنوں میں عوامی اجتماعات اور اجلاسوں میں بھی شریک ہوتے رہے ہیں\n",
      "Successful Split: پاکستان کے وزیر اعظم عمران خان میں کورونا وائرس کی تشخیص ہوئی ہے\n",
      "Successful Split: پاکستان کے وزیر اعظم عمران خان میں کورونا وائرس کی تشخیص ہوئی ہے\n",
      "Successful Split: وزیر اعظم عمران خان نے دو روز قبل کورونا وائرس سے بچاؤ کی ویکسین کا بھی لگوائی تھی\n",
      "Successful Split: ہر فرد کو کچھ ہفتوں کے فاصلے سے ویکسین کی دو خوراکیں دی جاتی ہیں اور عمران خان کو ابھی تک صرف ایک خوراک دی گئی تھی\n",
      "Successful Split: اپنا کووڈ ٹیسٹ مثبت آنے کے بعد پاکستان کے وزیر اعظم نے خود کو گھر میں قرنطینہ کر لیا ہے\n",
      "Successful Split: اس موقعے پر وہ چال چلی جسے نہلے پہ دہلا کہا جاتا ہے\n",
      "Successful Split: اس خبر کے بعد پاکستان میں سوشل میڈیا پر لوگ اکثر یہ سوال کرتے نظر آ رہے ہیں کہ کیا ویکسین لگوانے کے بعد بھی کورونا وائرس کا خطرہ موجود رہتا ہے اور یہ کہ ویکسین کتنے عرصے بعد مؤثر ثابت ہوتی ہے\n",
      "Successful Split: بی بی سی اردو نے طبی ماہرین سے انھی سوالوں کے جواب جاننے کی کوشش کی ہے\n",
      "Successful Split: حکومتِ پاکستان کے ٹوئٹر اکاؤنٹ سے جاری ہونے والے ایک بیان میں وضاحت دی گئی کہ وزیر اعظم عمران خان کا کورونا ٹیسٹ جب مثبت آیا تو اس وقت ان کی ویکسینیشن مکمل نہیں ہوئی تھی\n",
      "Successful Split: اُنھیں ویکسین کا پہلا ٹیکا لگے صرف 2 دن ہوئے ہیں، جو کسی بھی ویکسین کے کارآمد ہونے کے لیے بہت کم وقت ہے\n",
      "Successful Split: اینٹی باڈیز ویکسین کا دوسرا ٹیکا لگنے کے دو سے تین ہفتوں کے بعد بننا شروع ہوتی ہیں\n",
      "Successful Split: پاکستان میں اس وقت چین کی طرف سے عطیے میں ملنے والی سائنو فارم ویکسین 60 سال یا اس سے زائد عمر کے افراد کو لگائی جا رہی ہے\n",
      "Successful Split: پاکستان کے وزیر اعظم عمران خان میں کورونا وائرس کی تشخیص ہوئی ہے\n",
      "Successful Split: وزیر اعظم عمران خان کے سابق معاونِ خصوصی برائے صحت ڈاکٹر ظفر مرزا نے بی بی سی کو بتایا کہ وزیر اعظم عمران خان نے دو روز قبل ویکسین لگوائی ہے اور اس بات کا قوی امکان ہے کہ وہ اس وقت کورونا وائرس سے متاثر ہو چکے تھے\n",
      "Successful Split: اپنا کووڈ ٹیسٹ مثبت آنے کے بعد پاکستان کے وزیر اعظم نے خود کو گھر میں قرنطینہ کر لیا ہے\n",
      "Successful Split: حالات تو ایسے ہیں\n",
      "Successful Split: وزیر اعظم عمران خان کے سابق معاونِ خصوصی برائے صحت ڈاکٹر ظفر مرزا نے بی بی سی کو بتایا کہ وزیر اعظم عمران خان نے دو روز قبل ویکسین لگوائی ہے اور اس بات کا قوی امکان ہے کہ وہ اس وقت کورونا وائرس سے متاثر ہو چکے تھے\n",
      "Successful Split: ملک بھر میں مہنگائی کرنے والے نا جائز منافع خوروں کے خلاف ایک خوفناک اپریشن ضرب ِ غضب یا اپریشن ردالفساد شروع کرنے کی اشد ضرورت ہے\n",
      "Successful Split: ان کے مطابق یہ الگ بات ہے کہ ویکسین کے بعد انفیکشن معمولی نوعیت کا ہوتا ہے مگر احتیاط سے معمولی نوعیت کے خطرے سے بھی بچاؤ ممکن ہے\n",
      "Successful Split: ڈاکٹر نسیم اختر کہتی ہیں کہ اب وزیر اعظم عمران کو دوبارہ ویکسین ان کی صحت یابی کے بعد ہی لگائی جا سکے گی\n",
      "Successful Split: انڈس ہسپتال کے چیف ایگزیکٹیو افسر عبدالباری خان نے پاکستان کے مقامی ٹی وی چینل جیو نیوز سے بات کرتے ہوئے کووڈ ویکسین کی افادیت پر اٹھنے والے سوالات کو مسترد کرتے ہوئے کہا کہ ’ویکسین لگنے سے پہلے کسی کو کووڈ ہونا نارمل بات ہے\n",
      "Successful Split: انھوں نے کہا کہ ’ویکسین لگنے کے دو سے تین ہفتے بعد جسم میں اینٹی باڈیز بنتی ہیں\n",
      "Successful Split: اس لیے چینی ویکسین سائنوفارم ڈبل ڈوز ویکسین ہے اور اس ویکسین کی افادیت 80 سے 90 فیصد ہے\n",
      "Successful Split: ابھی یہ واضح نہیں ہے کہ وزیر اعظم عمران خان اس وائرس سے کیسے متاثر ہوئے ہیں تاہم وزیر اعظم حالیہ چند دنوں میں عوامی اجتماعات اور اجلاسوں میں بھی شریک ہوتے رہے ہیں\n",
      "Successful Split: اس دوران وزیر اعظم بیرونِ ملک سے آئے مہمانوں سے بھی ملاقات کرتے رہے اور اُنھوں نے چند دن قبل خیبر پختونخوا میں ترقیاتی منصوبوں کا دورہ بھی کیا تھا\n",
      "Successful Split: واضح رہے کہ 18 مارچ کو عمران خان نے پہلے اسلام آباد میں ہاؤسنگ پراجیکٹ کا افتتاح کیا جس میں دیگر وفاقی وزرا شامل تھے\n"
     ]
    }
   ],
   "source": [
    "#Attempted Algorithm accuracy\n",
    "\n",
    "ACC_Proposed_Method = Sentence_Segment_Accuracy(new_sents1,Correct_path)   \n",
    "\n",
    "#UrduHack algorithm accuracy\n",
    "ACC_Urduhack_Method = Sentence_Segment_Accuracy(sentence_tokenizer(text),Correct_path)  "
   ]
  },
  {
   "cell_type": "markdown",
   "id": "daae8029",
   "metadata": {},
   "source": [
    "## Resulted Accuracies"
   ]
  },
  {
   "cell_type": "code",
   "execution_count": 41,
   "id": "3ea26c48",
   "metadata": {},
   "outputs": [
    {
     "name": "stdout",
     "output_type": "stream",
     "text": [
      "Accuracy of proposed Algorithm:  90.78947368421053\n",
      "Accuracy of UrduHack Algorithm:  60.526315789473685\n"
     ]
    }
   ],
   "source": [
    "print(\"Accuracy of proposed Algorithm: \" , ACC_Proposed_Method)\n",
    "print(\"Accuracy of UrduHack Algorithm: \", ACC_Urduhack_Method)"
   ]
  }
 ],
 "metadata": {
  "kernelspec": {
   "display_name": "Python 3 (ipykernel)",
   "language": "python",
   "name": "python3"
  },
  "language_info": {
   "codemirror_mode": {
    "name": "ipython",
    "version": 3
   },
   "file_extension": ".py",
   "mimetype": "text/x-python",
   "name": "python",
   "nbconvert_exporter": "python",
   "pygments_lexer": "ipython3",
   "version": "3.9.16"
  }
 },
 "nbformat": 4,
 "nbformat_minor": 5
}
